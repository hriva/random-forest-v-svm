{
 "cells": [
  {
   "cell_type": "markdown",
   "metadata": {},
   "source": [
    "# Try it with one of your mails."
   ]
  },
  {
   "cell_type": "code",
   "execution_count": null,
   "metadata": {},
   "outputs": [],
   "source": [
    "import pandas as pd\n",
    "from sklearn.model_selection import train_test_split\n",
    "from sklearn.ensemble import RandomForestClassifier\n",
    "from sklearn.svm import SVC\n",
    "from sklearn.feature_extraction.text import TfidfVectorizer\n",
    "from sklearn.pipeline import Pipeline\n",
    "from sklearn import metrics"
   ]
  },
  {
   "cell_type": "markdown",
   "metadata": {},
   "source": [
    "## Load one of the models from the Releases page. "
   ]
  },
  {
   "cell_type": "markdown",
   "metadata": {},
   "source": [
    "Load either the rf-classifier.joblib or the svm-classifier.joblib by placing it in the root of the repository and selecting it with load()."
   ]
  },
  {
   "cell_type": "code",
   "execution_count": null,
   "metadata": {},
   "outputs": [],
   "source": [
    "from joblib import load\n",
    "classifier = load('rf-classifier.joblib') "
   ]
  },
  {
   "cell_type": "markdown",
   "metadata": {},
   "source": [
    "## Check Mail "
   ]
  },
  {
   "cell_type": "code",
   "execution_count": null,
   "metadata": {},
   "outputs": [],
   "source": [
    "email = input(\"Enter the email's text withouth html: \")\n",
    "email_class = classifier.predict([email])\n",
    "print(email_class) "
   ]
  },
  {
   "cell_type": "markdown",
   "metadata": {},
   "source": [
    "## Not the result you expected?\n",
    "This could be case of overfitting where the model learned to predict very well for the sample but does poorly on real life. In addition to the sample is good idea to perform some data augmentation techniques to improve overall learning.   \n",
    "Remember to always check your data set quality or consider the features you need to validate. If you look into the sample and see what is labeled as safe. You will see many ads taken for phishing.  \n",
    "Furthermore make sure you understand and define what you consider the classes. e.g., Phishing vs Spam. This could be casing some actual safe mails with discounts you might want to test, be labeled as Phishing."
   ]
  },
  {
   "cell_type": "markdown",
   "metadata": {},
   "source": [
    "#### REMEMBER, AN INCREDIBLE MODEL IS NO SUBSTITUTE FOR GOOD QUALITY DATA. \n",
    "A model gives what it ingests."
   ]
  }
 ],
 "metadata": {
  "kernelspec": {
   "display_name": ".devel-env",
   "language": "python",
   "name": "python3"
  },
  "language_info": {
   "codemirror_mode": {
    "name": "ipython",
    "version": 3
   },
   "file_extension": ".py",
   "mimetype": "text/x-python",
   "name": "python",
   "nbconvert_exporter": "python",
   "pygments_lexer": "ipython3",
   "version": "3.12.1"
  }
 },
 "nbformat": 4,
 "nbformat_minor": 2
}
